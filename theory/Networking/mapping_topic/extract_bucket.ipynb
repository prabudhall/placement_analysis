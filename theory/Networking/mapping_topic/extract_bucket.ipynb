{
 "cells": [
  {
   "cell_type": "code",
   "execution_count": 14,
   "id": "d30474a7",
   "metadata": {},
   "outputs": [],
   "source": [
    "from numba.core.errors import NumbaDeprecationWarning, NumbaPendingDeprecationWarning\n",
    "import warnings\n",
    "\n",
    "warnings.simplefilter('ignore', category=NumbaDeprecationWarning)\n",
    "warnings.simplefilter('ignore', category=NumbaPendingDeprecationWarning)\n",
    "\n",
    "import os\n",
    "from bertopic import BERTopic\n",
    "import pandas as pd\n",
    "\n",
    "os.chdir(\"..\")\n",
    "model_merged_ngram = BERTopic.load(\"model_merged_ngram_no_len\")\n",
    "os.chdir('mapping_topic')\n",
    "tp = model_merged_ngram.get_topic_info()\n",
    "\n",
    "# Split the 'Bucket' column by underscores and join the parts with commas\n",
    "tp['Bucket'] = tp['Name'].str.split('_').str[1:].str.join(',')\n",
    "\n",
    "data = {\n",
    "    'Bucket Number': tp['Topic'],\n",
    "    'Bucket': tp['Bucket']\n",
    "}\n",
    "\n",
    "df = pd.DataFrame.from_dict(data)\n",
    "\n",
    "df.to_csv('net_bucket.csv', index=False)\n"
   ]
  }
 ],
 "metadata": {
  "kernelspec": {
   "display_name": "Python 3 (ipykernel)",
   "language": "python",
   "name": "python3"
  },
  "language_info": {
   "codemirror_mode": {
    "name": "ipython",
    "version": 3
   },
   "file_extension": ".py",
   "mimetype": "text/x-python",
   "name": "python",
   "nbconvert_exporter": "python",
   "pygments_lexer": "ipython3",
   "version": "3.10.9"
  }
 },
 "nbformat": 4,
 "nbformat_minor": 5
}
